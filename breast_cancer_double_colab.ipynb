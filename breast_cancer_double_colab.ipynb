{
  "nbformat": 4,
  "nbformat_minor": 0,
  "metadata": {
    "colab": {
      "name": "breast_cancer_double_colab.ipynb",
      "provenance": []
    },
    "kernelspec": {
      "name": "python3",
      "display_name": "Python 3"
    }
  },
  "cells": [
    {
      "cell_type": "code",
      "metadata": {
        "id": "YsNyRsj_nPcC",
        "colab_type": "code",
        "outputId": "69f625e6-977a-47cd-fec5-b8ad240128ed",
        "colab": {
          "base_uri": "https://localhost:8080/",
          "height": 99
        }
      },
      "source": [
        "from google.colab import files\n",
        "import io\n",
        "import pandas as pd\n",
        "from sklearn.model_selection import train_test_split\n",
        "import keras\n",
        "from keras.models import Sequential\n",
        "from keras.layers import Dense\n",
        "from sklearn.metrics import confusion_matrix, accuracy_score"
      ],
      "execution_count": 0,
      "outputs": [
        {
          "output_type": "stream",
          "text": [
            "Using TensorFlow backend.\n"
          ],
          "name": "stderr"
        },
        {
          "output_type": "display_data",
          "data": {
            "text/html": [
              "<p style=\"color: red;\">\n",
              "The default version of TensorFlow in Colab will soon switch to TensorFlow 2.x.<br>\n",
              "We recommend you <a href=\"https://www.tensorflow.org/guide/migrate\" target=\"_blank\">upgrade</a> now \n",
              "or ensure your notebook will continue to use TensorFlow 1.x via the <code>%tensorflow_version 1.x</code> magic:\n",
              "<a href=\"https://colab.research.google.com/notebooks/tensorflow_version.ipynb\" target=\"_blank\">more info</a>.</p>\n"
            ],
            "text/plain": [
              "<IPython.core.display.HTML object>"
            ]
          },
          "metadata": {
            "tags": []
          }
        }
      ]
    },
    {
      "cell_type": "code",
      "metadata": {
        "id": "6kgGWEnKnxY2",
        "colab_type": "code",
        "outputId": "95d38c5a-6868-49ae-f57f-d129c2241cc7",
        "colab": {
          "resources": {
            "http://localhost:8080/nbextensions/google.colab/files.js": {
              "data": "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",
              "ok": true,
              "headers": [
                [
                  "content-type",
                  "application/javascript"
                ]
              ],
              "status": 200,
              "status_text": ""
            }
          },
          "base_uri": "https://localhost:8080/",
          "height": 109
        }
      },
      "source": [
        "uploaded = files.upload()"
      ],
      "execution_count": 0,
      "outputs": [
        {
          "output_type": "display_data",
          "data": {
            "text/html": [
              "\n",
              "     <input type=\"file\" id=\"files-ae5efff6-c067-4c0d-b740-313977df2c1d\" name=\"files[]\" multiple disabled />\n",
              "     <output id=\"result-ae5efff6-c067-4c0d-b740-313977df2c1d\">\n",
              "      Upload widget is only available when the cell has been executed in the\n",
              "      current browser session. Please rerun this cell to enable.\n",
              "      </output>\n",
              "      <script src=\"/nbextensions/google.colab/files.js\"></script> "
            ],
            "text/plain": [
              "<IPython.core.display.HTML object>"
            ]
          },
          "metadata": {
            "tags": []
          }
        },
        {
          "output_type": "stream",
          "text": [
            "Saving entradas-breast.csv to entradas-breast.csv\n",
            "Saving saidas-breast.csv to saidas-breast.csv\n"
          ],
          "name": "stdout"
        }
      ]
    },
    {
      "cell_type": "code",
      "metadata": {
        "id": "O48CCLBOn5Sy",
        "colab_type": "code",
        "colab": {}
      },
      "source": [
        "previsores = pd.read_csv(io.BytesIO(uploaded['entradas-breast.csv']))\n",
        "classe = pd.read_csv(io.BytesIO(uploaded['saidas-breast.csv']))\n",
        "\n",
        "previsores_treinamento, previsores_teste, classe_treinamento, classe_teste = train_test_split(previsores, classe, test_size=0.25)"
      ],
      "execution_count": 0,
      "outputs": []
    },
    {
      "cell_type": "code",
      "metadata": {
        "id": "KGAfffvSoFtW",
        "colab_type": "code",
        "outputId": "014c190f-cae2-4bf0-a5a3-3b477c29dd95",
        "colab": {
          "base_uri": "https://localhost:8080/",
          "height": 1000
        }
      },
      "source": [
        "classificador = Sequential()\n",
        "classificador.add(Dense(units = 16, activation = 'relu', kernel_initializer = 'random_uniform', input_dim = 30))\n",
        "classificador.add(Dense(units = 16, activation = 'relu', kernel_initializer = 'random_uniform'))\n",
        "classificador.add(Dense(units = 1, activation = 'sigmoid'))\n",
        "\n",
        "otimizador = keras.optimizers.Adam(lr=0.001,decay=0.0001,clipvalue=0.8) #cria um otimizador personalizado\n",
        "\n",
        "classificador.compile(optimizer = otimizador, loss = 'binary_crossentropy', metrics = ['binary_accuracy'])\n",
        "\n",
        "classificador.fit(previsores_treinamento, classe_treinamento, batch_size = 10, epochs = 100);"
      ],
      "execution_count": 0,
      "outputs": [
        {
          "output_type": "stream",
          "text": [
            "Epoch 1/100\n",
            "426/426 [==============================] - 0s 950us/step - loss: 0.9134 - binary_accuracy: 0.6643\n",
            "Epoch 2/100\n",
            "426/426 [==============================] - 0s 116us/step - loss: 0.5855 - binary_accuracy: 0.7089\n",
            "Epoch 3/100\n",
            "426/426 [==============================] - 0s 125us/step - loss: 0.4550 - binary_accuracy: 0.7934\n",
            "Epoch 4/100\n",
            "426/426 [==============================] - 0s 119us/step - loss: 0.4307 - binary_accuracy: 0.8052\n",
            "Epoch 5/100\n",
            "426/426 [==============================] - 0s 119us/step - loss: 0.3833 - binary_accuracy: 0.8286\n",
            "Epoch 6/100\n",
            "426/426 [==============================] - 0s 115us/step - loss: 0.4354 - binary_accuracy: 0.8052\n",
            "Epoch 7/100\n",
            "426/426 [==============================] - 0s 122us/step - loss: 0.3422 - binary_accuracy: 0.8521\n",
            "Epoch 8/100\n",
            "426/426 [==============================] - 0s 125us/step - loss: 0.4065 - binary_accuracy: 0.8357\n",
            "Epoch 9/100\n",
            "426/426 [==============================] - 0s 123us/step - loss: 0.3520 - binary_accuracy: 0.8592\n",
            "Epoch 10/100\n",
            "426/426 [==============================] - 0s 116us/step - loss: 0.5055 - binary_accuracy: 0.8451\n",
            "Epoch 11/100\n",
            "426/426 [==============================] - 0s 132us/step - loss: 0.3570 - binary_accuracy: 0.8568\n",
            "Epoch 12/100\n",
            "426/426 [==============================] - 0s 145us/step - loss: 0.3932 - binary_accuracy: 0.8451\n",
            "Epoch 13/100\n",
            "426/426 [==============================] - 0s 125us/step - loss: 0.3271 - binary_accuracy: 0.8756\n",
            "Epoch 14/100\n",
            "426/426 [==============================] - 0s 118us/step - loss: 0.3171 - binary_accuracy: 0.8873\n",
            "Epoch 15/100\n",
            "426/426 [==============================] - 0s 123us/step - loss: 0.3842 - binary_accuracy: 0.8568\n",
            "Epoch 16/100\n",
            "426/426 [==============================] - 0s 165us/step - loss: 0.3299 - binary_accuracy: 0.8685\n",
            "Epoch 17/100\n",
            "426/426 [==============================] - 0s 140us/step - loss: 0.3684 - binary_accuracy: 0.8615\n",
            "Epoch 18/100\n",
            "426/426 [==============================] - 0s 141us/step - loss: 0.3507 - binary_accuracy: 0.8615\n",
            "Epoch 19/100\n",
            "426/426 [==============================] - 0s 127us/step - loss: 0.3335 - binary_accuracy: 0.8850\n",
            "Epoch 20/100\n",
            "426/426 [==============================] - 0s 149us/step - loss: 0.3559 - binary_accuracy: 0.8615\n",
            "Epoch 21/100\n",
            "426/426 [==============================] - 0s 121us/step - loss: 0.4080 - binary_accuracy: 0.8592\n",
            "Epoch 22/100\n",
            "426/426 [==============================] - 0s 123us/step - loss: 0.3646 - binary_accuracy: 0.8592\n",
            "Epoch 23/100\n",
            "426/426 [==============================] - 0s 163us/step - loss: 0.3473 - binary_accuracy: 0.8803\n",
            "Epoch 24/100\n",
            "426/426 [==============================] - 0s 151us/step - loss: 0.3456 - binary_accuracy: 0.8756\n",
            "Epoch 25/100\n",
            "426/426 [==============================] - 0s 146us/step - loss: 0.3814 - binary_accuracy: 0.8638\n",
            "Epoch 26/100\n",
            "426/426 [==============================] - 0s 155us/step - loss: 0.3983 - binary_accuracy: 0.8498\n",
            "Epoch 27/100\n",
            "426/426 [==============================] - 0s 144us/step - loss: 0.3771 - binary_accuracy: 0.8873\n",
            "Epoch 28/100\n",
            "426/426 [==============================] - 0s 156us/step - loss: 0.3851 - binary_accuracy: 0.8920\n",
            "Epoch 29/100\n",
            "426/426 [==============================] - 0s 169us/step - loss: 0.3842 - binary_accuracy: 0.8685\n",
            "Epoch 30/100\n",
            "426/426 [==============================] - 0s 161us/step - loss: 0.6671 - binary_accuracy: 0.8498\n",
            "Epoch 31/100\n",
            "426/426 [==============================] - 0s 162us/step - loss: 0.4864 - binary_accuracy: 0.8732\n",
            "Epoch 32/100\n",
            "426/426 [==============================] - 0s 160us/step - loss: 0.6367 - binary_accuracy: 0.8826\n",
            "Epoch 33/100\n",
            "426/426 [==============================] - 0s 119us/step - loss: 0.6469 - binary_accuracy: 0.8756\n",
            "Epoch 34/100\n",
            "426/426 [==============================] - 0s 123us/step - loss: 0.6569 - binary_accuracy: 0.8709\n",
            "Epoch 35/100\n",
            "426/426 [==============================] - 0s 139us/step - loss: 0.7400 - binary_accuracy: 0.8427\n",
            "Epoch 36/100\n",
            "426/426 [==============================] - 0s 152us/step - loss: 0.7640 - binary_accuracy: 0.8451\n",
            "Epoch 37/100\n",
            "426/426 [==============================] - 0s 122us/step - loss: 0.6787 - binary_accuracy: 0.8732\n",
            "Epoch 38/100\n",
            "426/426 [==============================] - 0s 119us/step - loss: 0.7685 - binary_accuracy: 0.8615\n",
            "Epoch 39/100\n",
            "426/426 [==============================] - 0s 131us/step - loss: 0.8867 - binary_accuracy: 0.8239\n",
            "Epoch 40/100\n",
            "426/426 [==============================] - 0s 167us/step - loss: 0.7476 - binary_accuracy: 0.8615\n",
            "Epoch 41/100\n",
            "426/426 [==============================] - 0s 159us/step - loss: 0.7169 - binary_accuracy: 0.8803\n",
            "Epoch 42/100\n",
            "426/426 [==============================] - 0s 147us/step - loss: 0.8384 - binary_accuracy: 0.8545\n",
            "Epoch 43/100\n",
            "426/426 [==============================] - 0s 122us/step - loss: 0.9763 - binary_accuracy: 0.8216\n",
            "Epoch 44/100\n",
            "426/426 [==============================] - 0s 145us/step - loss: 0.9128 - binary_accuracy: 0.8404\n",
            "Epoch 45/100\n",
            "426/426 [==============================] - 0s 117us/step - loss: 0.8872 - binary_accuracy: 0.8263\n",
            "Epoch 46/100\n",
            "426/426 [==============================] - 0s 136us/step - loss: 0.8474 - binary_accuracy: 0.8568\n",
            "Epoch 47/100\n",
            "426/426 [==============================] - 0s 121us/step - loss: 0.8576 - binary_accuracy: 0.8615\n",
            "Epoch 48/100\n",
            "426/426 [==============================] - 0s 136us/step - loss: 0.8654 - binary_accuracy: 0.8732\n",
            "Epoch 49/100\n",
            "426/426 [==============================] - 0s 122us/step - loss: 0.9553 - binary_accuracy: 0.8357\n",
            "Epoch 50/100\n",
            "426/426 [==============================] - 0s 136us/step - loss: 0.9203 - binary_accuracy: 0.8521\n",
            "Epoch 51/100\n",
            "426/426 [==============================] - 0s 122us/step - loss: 0.8401 - binary_accuracy: 0.8474\n",
            "Epoch 52/100\n",
            "426/426 [==============================] - 0s 135us/step - loss: 0.8619 - binary_accuracy: 0.8662\n",
            "Epoch 53/100\n",
            "426/426 [==============================] - 0s 118us/step - loss: 0.9227 - binary_accuracy: 0.8615\n",
            "Epoch 54/100\n",
            "426/426 [==============================] - 0s 141us/step - loss: 0.8653 - binary_accuracy: 0.8662\n",
            "Epoch 55/100\n",
            "426/426 [==============================] - 0s 120us/step - loss: 0.8914 - binary_accuracy: 0.8638\n",
            "Epoch 56/100\n",
            "426/426 [==============================] - 0s 169us/step - loss: 0.9131 - binary_accuracy: 0.8568\n",
            "Epoch 57/100\n",
            "426/426 [==============================] - 0s 158us/step - loss: 0.8475 - binary_accuracy: 0.8779\n",
            "Epoch 58/100\n",
            "426/426 [==============================] - 0s 143us/step - loss: 0.8810 - binary_accuracy: 0.8756\n",
            "Epoch 59/100\n",
            "426/426 [==============================] - 0s 124us/step - loss: 0.8662 - binary_accuracy: 0.8732\n",
            "Epoch 60/100\n",
            "426/426 [==============================] - 0s 142us/step - loss: 0.9268 - binary_accuracy: 0.8521\n",
            "Epoch 61/100\n",
            "426/426 [==============================] - 0s 140us/step - loss: 0.8330 - binary_accuracy: 0.8779\n",
            "Epoch 62/100\n",
            "426/426 [==============================] - 0s 129us/step - loss: 0.9482 - binary_accuracy: 0.8380\n",
            "Epoch 63/100\n",
            "426/426 [==============================] - 0s 121us/step - loss: 0.9181 - binary_accuracy: 0.8521\n",
            "Epoch 64/100\n",
            "426/426 [==============================] - 0s 124us/step - loss: 1.1228 - binary_accuracy: 0.7934\n",
            "Epoch 65/100\n",
            "426/426 [==============================] - 0s 132us/step - loss: 1.0611 - binary_accuracy: 0.8263\n",
            "Epoch 66/100\n",
            "426/426 [==============================] - 0s 148us/step - loss: 1.1464 - binary_accuracy: 0.8333\n",
            "Epoch 67/100\n",
            "426/426 [==============================] - 0s 124us/step - loss: 1.0701 - binary_accuracy: 0.8380\n",
            "Epoch 68/100\n",
            "426/426 [==============================] - 0s 145us/step - loss: 1.0465 - binary_accuracy: 0.8333\n",
            "Epoch 69/100\n",
            "426/426 [==============================] - 0s 125us/step - loss: 0.9688 - binary_accuracy: 0.8380\n",
            "Epoch 70/100\n",
            "426/426 [==============================] - 0s 148us/step - loss: 0.8788 - binary_accuracy: 0.8498\n",
            "Epoch 71/100\n",
            "426/426 [==============================] - 0s 136us/step - loss: 1.1403 - binary_accuracy: 0.8216\n",
            "Epoch 72/100\n",
            "426/426 [==============================] - 0s 124us/step - loss: 1.1650 - binary_accuracy: 0.8286\n",
            "Epoch 73/100\n",
            "426/426 [==============================] - 0s 119us/step - loss: 1.0691 - binary_accuracy: 0.8404\n",
            "Epoch 74/100\n",
            "426/426 [==============================] - 0s 163us/step - loss: 0.9957 - binary_accuracy: 0.8333\n",
            "Epoch 75/100\n",
            "426/426 [==============================] - 0s 120us/step - loss: 0.9374 - binary_accuracy: 0.8474\n",
            "Epoch 76/100\n",
            "426/426 [==============================] - 0s 136us/step - loss: 1.0652 - binary_accuracy: 0.8146\n",
            "Epoch 77/100\n",
            "426/426 [==============================] - 0s 122us/step - loss: 0.9964 - binary_accuracy: 0.8474\n",
            "Epoch 78/100\n",
            "426/426 [==============================] - 0s 134us/step - loss: 1.0107 - binary_accuracy: 0.8263\n",
            "Epoch 79/100\n",
            "426/426 [==============================] - 0s 124us/step - loss: 1.0961 - binary_accuracy: 0.8263\n",
            "Epoch 80/100\n",
            "426/426 [==============================] - 0s 123us/step - loss: 0.9492 - binary_accuracy: 0.8380\n",
            "Epoch 81/100\n",
            "426/426 [==============================] - 0s 115us/step - loss: 0.9119 - binary_accuracy: 0.8427\n",
            "Epoch 82/100\n",
            "426/426 [==============================] - 0s 152us/step - loss: 1.0916 - binary_accuracy: 0.8357\n",
            "Epoch 83/100\n",
            "426/426 [==============================] - 0s 144us/step - loss: 1.0222 - binary_accuracy: 0.8427\n",
            "Epoch 84/100\n",
            "426/426 [==============================] - 0s 121us/step - loss: 0.9909 - binary_accuracy: 0.8498\n",
            "Epoch 85/100\n",
            "426/426 [==============================] - 0s 135us/step - loss: 1.1295 - binary_accuracy: 0.8099\n",
            "Epoch 86/100\n",
            "426/426 [==============================] - 0s 126us/step - loss: 0.9085 - binary_accuracy: 0.8451\n",
            "Epoch 87/100\n",
            "426/426 [==============================] - 0s 136us/step - loss: 0.9752 - binary_accuracy: 0.8498\n",
            "Epoch 88/100\n",
            "426/426 [==============================] - 0s 118us/step - loss: 1.0393 - binary_accuracy: 0.8404\n",
            "Epoch 89/100\n",
            "426/426 [==============================] - 0s 141us/step - loss: 0.9485 - binary_accuracy: 0.8568\n",
            "Epoch 90/100\n",
            "426/426 [==============================] - 0s 147us/step - loss: 1.1455 - binary_accuracy: 0.8216\n",
            "Epoch 91/100\n",
            "426/426 [==============================] - 0s 134us/step - loss: 1.1619 - binary_accuracy: 0.8122\n",
            "Epoch 92/100\n",
            "426/426 [==============================] - 0s 140us/step - loss: 1.0386 - binary_accuracy: 0.8357\n",
            "Epoch 93/100\n",
            "426/426 [==============================] - 0s 144us/step - loss: 1.1470 - binary_accuracy: 0.8239\n",
            "Epoch 94/100\n",
            "426/426 [==============================] - 0s 117us/step - loss: 1.1261 - binary_accuracy: 0.8333\n",
            "Epoch 95/100\n",
            "426/426 [==============================] - 0s 116us/step - loss: 1.0345 - binary_accuracy: 0.8310\n",
            "Epoch 96/100\n",
            "426/426 [==============================] - 0s 121us/step - loss: 1.0794 - binary_accuracy: 0.8286\n",
            "Epoch 97/100\n",
            "426/426 [==============================] - 0s 132us/step - loss: 1.0406 - binary_accuracy: 0.8357\n",
            "Epoch 98/100\n",
            "426/426 [==============================] - 0s 122us/step - loss: 1.0556 - binary_accuracy: 0.8333\n",
            "Epoch 99/100\n",
            "426/426 [==============================] - 0s 120us/step - loss: 0.9895 - binary_accuracy: 0.8380\n",
            "Epoch 100/100\n",
            "426/426 [==============================] - 0s 138us/step - loss: 0.9681 - binary_accuracy: 0.8592\n"
          ],
          "name": "stdout"
        }
      ]
    },
    {
      "cell_type": "code",
      "metadata": {
        "id": "v-0kQLibog0k",
        "colab_type": "code",
        "outputId": "f0c05845-5089-42ec-b8de-e5daeb9719c9",
        "colab": {
          "base_uri": "https://localhost:8080/",
          "height": 70
        }
      },
      "source": [
        "previsoes = classificador.predict(previsores_teste)\n",
        "previsoes = (previsoes > 0.5)\n",
        "\n",
        "precisao = accuracy_score(classe_teste,previsoes)\n",
        "print(precisao)\n",
        "matriz = confusion_matrix(classe_teste,previsoes)\n",
        "print(matriz)"
      ],
      "execution_count": 0,
      "outputs": [
        {
          "output_type": "stream",
          "text": [
            "0.7062937062937062\n",
            "[[44 10]\n",
            " [32 57]]\n"
          ],
          "name": "stdout"
        }
      ]
    },
    {
      "cell_type": "code",
      "metadata": {
        "id": "66Uz1gj4oyfP",
        "colab_type": "code",
        "outputId": "af8e977d-6f52-4612-d3fd-f2916750f4a2",
        "colab": {
          "base_uri": "https://localhost:8080/",
          "height": 35
        }
      },
      "source": [
        "pesos0 = classificador.layers[0].get_weights()\n",
        "pesos0_len = len(pesos0) # 2: pesos vindos das inputs e bias\n",
        "pesos0_0_len = len(pesos0[0]) # 30 inputs -> 30 pesos\n",
        "pesos0_bias_len = len(pesos0[1]) # 16 neurônios -> 16 bias'es\n",
        "print(str(pesos0_len)+\" - \"+str(pesos0_0_len)+\" - \"+str(pesos0_bias_len))"
      ],
      "execution_count": 0,
      "outputs": [
        {
          "output_type": "stream",
          "text": [
            "2 - 30 - 16\n"
          ],
          "name": "stdout"
        }
      ]
    },
    {
      "cell_type": "code",
      "metadata": {
        "id": "wthcGqDrrK8Z",
        "colab_type": "code",
        "colab": {}
      },
      "source": [
        ""
      ],
      "execution_count": 0,
      "outputs": []
    }
  ]
}